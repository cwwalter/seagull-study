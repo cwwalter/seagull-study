{
 "cells": [
  {
   "cell_type": "code",
   "execution_count": null,
   "metadata": {},
   "outputs": [],
   "source": [
    "import os\n",
    "import numpy as np\n",
    "import pandas as pd\n",
    "import dask\n",
    "import dask.dataframe as dd\n",
    "from dask import delayed\n",
    "\n",
    "import itertools as it\n",
    "from functools import reduce\n",
    "import treecorr\n",
    "\n",
    "import matplotlib\n",
    "import matplotlib.pyplot as plt"
   ]
  },
  {
   "cell_type": "code",
   "execution_count": null,
   "metadata": {},
   "outputs": [],
   "source": [
    "from dask.distributed import Client, LocalCluster\n",
    "\n",
    "#cluster = LocalCluster(n_workers=8, \n",
    "#                       threads_per_worker=1,\n",
    "#                       memory_limit='6Gb')\n",
    "#client = Client(cluster)\n",
    "\n",
    "dask.config.config[\"distributed\"][\"dashboard\"][\"link\"] = \"{JUPYTERHUB_SERVICE_PREFIX}proxy/{host}:{port}/status\"\n",
    "client = Client(scheduler_file='/global/cscratch1/sd/cwalter/scheduler.json')\n",
    "\n",
    "client"
   ]
  },
  {
   "cell_type": "code",
   "execution_count": null,
   "metadata": {},
   "outputs": [],
   "source": [
    "from scipy.special import comb\n",
    "\n",
    "scratch= os.environ[\"SCRATCH\"]\n",
    "\n",
    "file_path = '/global/cscratch1/sd/cwalter/parquet-with-healpixels/'\n",
    "selected = ['galaxy_id', 'mag_i', 'redshift_true', 'ra', 'dec', 'shear_1', 'shear_2']\n",
    "rename_map = {'galaxy_id':'id', 'redshift_true':'z', 'shear_1':'g1', 'shear_2':'g2'}\n",
    "\n",
    "df = dd.read_parquet(file_path+'skysim-*.parquet', columns=selected)\n",
    "df = df.rename(columns=rename_map)\n",
    "#df = df.sample(frac=.000001)\n",
    "df = df.sample(frac=.1)\n",
    "\n",
    "#df = df.persist()\n",
    "\n",
    "number_in_df = df.index.size.compute()\n",
    "print('Columns:', df.columns.values, '#Rows:', number_in_df/1e9)\n",
    "print(f'There are {number_in_df:,d} elements in the area with {comb(number_in_df, 2, exact=True):,d} total combinations')"
   ]
  },
  {
   "cell_type": "code",
   "execution_count": null,
   "metadata": {},
   "outputs": [],
   "source": [
    "pixel_list = list(df.index.unique())"
   ]
  },
  {
   "cell_type": "code",
   "execution_count": null,
   "metadata": {},
   "outputs": [],
   "source": [
    "from healpy.pixelfunc import pix2ang\n",
    "from healpy.rotator import angdist\n",
    "\n",
    "NSIDE = 32\n",
    "\n",
    "def angular_distance(pairs):\n",
    "    \n",
    "    pixel1 = pix2ang(NSIDE, pairs[:,0])\n",
    "    pixel2 = pix2ang(NSIDE, pairs[:,1])\n",
    "    \n",
    "    seperation = angdist(pixel1, pixel2)*180/np.pi*60 # in arcmin\n",
    "    \n",
    "    return seperation\n",
    "\n",
    "@delayed\n",
    "def size_test(cat1, cat2):\n",
    "    gg = 1\n",
    "    return gg\n",
    "\n",
    "\n",
    "def make_catalog(dataframe):\n",
    "    cat = treecorr.Catalog(ra=dataframe.ra, dec=dataframe.dec, g1=dataframe.g1, g2=dataframe.g2, flip_g2=False, ra_units='deg', dec_units='deg')\n",
    "    #print('size', cat.ntot)\n",
    "    return cat\n"
   ]
  },
  {
   "cell_type": "code",
   "execution_count": null,
   "metadata": {
    "tags": []
   },
   "outputs": [],
   "source": [
    "catalogs = df.map_partitions(make_catalog, meta=(None, 'O'))\n",
    "catalogs = catalogs.persist()"
   ]
  },
  {
   "cell_type": "code",
   "execution_count": null,
   "metadata": {},
   "outputs": [],
   "source": [
    "delayed_list = catalogs.to_delayed()\n",
    "partition_map = {j:i for i,j in enumerate(pixel_list)}"
   ]
  },
  {
   "cell_type": "code",
   "execution_count": null,
   "metadata": {},
   "outputs": [],
   "source": [
    "pairs = np.array( [x for x in it.combinations_with_replacement(pixel_list, 2)] )\n",
    "selected_pairs = pairs[angular_distance(pairs) < 600]"
   ]
  },
  {
   "cell_type": "code",
   "execution_count": null,
   "metadata": {},
   "outputs": [],
   "source": [
    "a = [size_test(delayed_list[partition_map[i[0]]], delayed_list[partition_map[i[1]]]) for i in selected_pairs]\n",
    "#a = [size_test(catalogs.get_partition(partition_map[i[0]]), catalogs.get_partition(partition_map[i[1]])) for i in selected_pairs]"
   ]
  },
  {
   "cell_type": "code",
   "execution_count": null,
   "metadata": {},
   "outputs": [],
   "source": [
    "%%time\n",
    "gg_list = dask.compute(*a)"
   ]
  },
  {
   "cell_type": "code",
   "execution_count": null,
   "metadata": {},
   "outputs": [],
   "source": [
    "#catalogs.get_partition(0).compute()"
   ]
  },
  {
   "cell_type": "code",
   "execution_count": null,
   "metadata": {},
   "outputs": [],
   "source": []
  }
 ],
 "metadata": {
  "kernelspec": {
   "display_name": "dask",
   "language": "python",
   "name": "dask"
  },
  "language_info": {
   "codemirror_mode": {
    "name": "ipython",
    "version": 3
   },
   "file_extension": ".py",
   "mimetype": "text/x-python",
   "name": "python",
   "nbconvert_exporter": "python",
   "pygments_lexer": "ipython3",
   "version": "3.8.10"
  }
 },
 "nbformat": 4,
 "nbformat_minor": 4
}

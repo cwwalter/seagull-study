{
 "cells": [
  {
   "cell_type": "code",
   "execution_count": 6,
   "metadata": {},
   "outputs": [],
   "source": [
    "import os\n",
    "import numpy as np\n",
    "import pandas as pd\n",
    "import dask\n",
    "import dask.array as da\n",
    "import dask.dataframe as dd\n",
    "\n",
    "from holoviews.operation.datashader import datashade\n",
    "import hvplot.dask\n",
    "import hvplot.pandas\n",
    "\n",
    "import mplhep as hep\n",
    "\n",
    "import matplotlib\n",
    "import matplotlib.pyplot as plt\n",
    "import matplotlib.colors as colors"
   ]
  },
  {
   "cell_type": "code",
   "execution_count": 7,
   "metadata": {},
   "outputs": [
    {
     "data": {
      "text/html": [
       "<table style=\"border: 2px solid white;\">\n",
       "<tr>\n",
       "<td style=\"vertical-align: top; border: 0px solid white\">\n",
       "<h3 style=\"text-align: left;\">Client</h3>\n",
       "<ul style=\"text-align: left; list-style: none; margin: 0; padding: 0;\">\n",
       "  <li><b>Scheduler: </b>tcp://10.128.0.111:37515</li>\n",
       "  <li><b>Dashboard: </b><a href='/user/cwalter/cori-shared-node-cpu/proxy/10.128.0.111:40475/status' target='_blank'>/user/cwalter/cori-shared-node-cpu/proxy/10.128.0.111:40475/status</a></li>\n",
       "</ul>\n",
       "</td>\n",
       "<td style=\"vertical-align: top; border: 0px solid white\">\n",
       "<h3 style=\"text-align: left;\">Cluster</h3>\n",
       "<ul style=\"text-align: left; list-style:none; margin: 0; padding: 0;\">\n",
       "  <li><b>Workers: </b>7</li>\n",
       "  <li><b>Cores: </b>7</li>\n",
       "  <li><b>Memory: </b>110.86 GB</li>\n",
       "</ul>\n",
       "</td>\n",
       "</tr>\n",
       "</table>"
      ],
      "text/plain": [
       "<Client: 'tcp://10.128.0.111:37515' processes=7 threads=7, memory=110.86 GB>"
      ]
     },
     "execution_count": 7,
     "metadata": {},
     "output_type": "execute_result"
    }
   ],
   "source": [
    "from dask.distributed import Client, LocalCluster\n",
    "\n",
    "#cluster = LocalCluster(n_workers=10, \n",
    "#                       threads_per_worker=1,\n",
    "#                       memory_limit='6Gb')\n",
    "#client = Client(cluster)\n",
    "\n",
    "dask.config.config[\"distributed\"][\"dashboard\"][\"link\"] = \"{JUPYTERHUB_SERVICE_PREFIX}proxy/{host}:{port}/status\"\n",
    "client = Client(scheduler_file='/global/cscratch1/sd/cwalter/dask-mpi/scheduler.json')\n",
    "\n",
    "client"
   ]
  },
  {
   "cell_type": "code",
   "execution_count": 3,
   "metadata": {},
   "outputs": [
    {
     "name": "stdout",
     "output_type": "stream",
     "text": [
      "Columns: ['id' 'mag_r' 'z' 'ra_true' 'dec_true' 'ra' 'dec' 'angle' 'e' 'e1' 'e2'\n",
      " 'kappa' 'g1' 'g2' 'magnification'] #Rows: dd.Scalar<truediv..., dtype=float64>\n"
     ]
    }
   ],
   "source": [
    "scratch= os.environ[\"SCRATCH\"]\n",
    "\n",
    "df = dd.read_parquet(f'{scratch}/parquet-skysim/*.parquet', engine='pyarrow')\n",
    "df = df.sample(frac=.01)\n",
    "df = df.repartition(npartitions=50)\n",
    "#df = df.compute()\n",
    "\n",
    "print('Columns:', df.columns.values, '#Rows:', df.z.size/1e6)"
   ]
  },
  {
   "cell_type": "code",
   "execution_count": 4,
   "metadata": {},
   "outputs": [
    {
     "name": "stdout",
     "output_type": "stream",
     "text": [
      "<class 'dask.dataframe.core.DataFrame'>\n",
      "Columns: 15 entries, id to magnification\n",
      "dtypes: float64(15)"
     ]
    }
   ],
   "source": [
    "df.info()"
   ]
  },
  {
   "cell_type": "code",
   "execution_count": null,
   "metadata": {},
   "outputs": [],
   "source": [
    "df.to_parquet('/global/cscratch1/sd/cwalter/skysim-sampled', compression='snappy', engine='pyarrow')"
   ]
  }
 ],
 "metadata": {
  "kernelspec": {
   "display_name": "dask",
   "language": "python",
   "name": "dask"
  },
  "language_info": {
   "codemirror_mode": {
    "name": "ipython",
    "version": 3
   },
   "file_extension": ".py",
   "mimetype": "text/x-python",
   "name": "python",
   "nbconvert_exporter": "python",
   "pygments_lexer": "ipython3",
   "version": "3.7.9"
  }
 },
 "nbformat": 4,
 "nbformat_minor": 4
}

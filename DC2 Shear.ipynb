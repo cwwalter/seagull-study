{
 "cells": [
  {
   "cell_type": "code",
   "execution_count": null,
   "metadata": {},
   "outputs": [],
   "source": [
    "from dask.distributed import Client, LocalCluster\n",
    "import dask_jobqueue\n",
    "\n",
    "#dask.config.config[\"distributed\"][\"dashboard\"][\"link\"] = \"{JUPYTERHUB_SERVICE_PREFIX}proxy/{host}:{port}/status\"\n",
    "# Local Cluster\n",
    "#client = Client()\n",
    "\n",
    "# Use SLURM Cluster\n",
    "cluster = dask_jobqueue.SLURMCluster(queue='debug')\n",
    "cluster.scale(jobs=2)\n",
    "print(cluster.job_script())\n",
    "\n",
    "client = Client(cluster)\n",
    "cluster"
   ]
  },
  {
   "cell_type": "code",
   "execution_count": null,
   "metadata": {},
   "outputs": [],
   "source": [
    "selected = df\n",
    "\n",
    "denominator = np.sqrt(selected.e1.size.compute())\n",
    "\n",
    "print(f'# of Galaxies {selected.e1.size.compute()/1e9}(billions)')\n",
    "\n",
    "print(f'e1 mean = {selected.e1.values.mean().compute():.5f} +- {selected.e1.std().compute()/denominator:.7f}')\n",
    "print(f'e2 mean = {selected.e2.values.mean().compute():.5f} +- {selected.e2.std().compute()/denominator:.7f}')"
   ]
  }
 ],
 "metadata": {
  "kernelspec": {
   "display_name": "dask",
   "language": "python",
   "name": "dask"
  },
  "language_info": {
   "codemirror_mode": {
    "name": "ipython",
    "version": 3
   },
   "file_extension": ".py",
   "mimetype": "text/x-python",
   "name": "python",
   "nbconvert_exporter": "python",
   "pygments_lexer": "ipython3",
   "version": "3.7.9"
  }
 },
 "nbformat": 4,
 "nbformat_minor": 4
}

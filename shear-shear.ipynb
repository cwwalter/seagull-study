{
 "cells": [
  {
   "cell_type": "code",
   "execution_count": null,
   "metadata": {},
   "outputs": [],
   "source": [
    "%config InlineBackend.figure_format = 'retina'\n",
    "\n",
    "%config IPCompleter.use_jedi = False\n",
    "import multiprocessing.popen_spawn_posix\n",
    "\n",
    "import os\n",
    "import numpy as np\n",
    "import pandas as pd\n",
    "import dask\n",
    "import dask.dataframe as dd\n",
    "from dask import delayed\n",
    "\n",
    "import itertools as it\n",
    "from functools import reduce\n",
    "import treecorr\n",
    "\n",
    "import matplotlib\n",
    "import matplotlib.pyplot as plt"
   ]
  },
  {
   "cell_type": "code",
   "execution_count": null,
   "metadata": {},
   "outputs": [],
   "source": [
    "matplotlib.rcParams['savefig.dpi'] = 120\n",
    "matplotlib.rcParams['figure.dpi'] = 120"
   ]
  },
  {
   "cell_type": "code",
   "execution_count": null,
   "metadata": {},
   "outputs": [],
   "source": [
    "from dask.distributed import Client, LocalCluster\n",
    "\n",
    "cluster = LocalCluster(n_workers=6, \n",
    "                       threads_per_worker=1,\n",
    "                       memory_limit='6Gb')\n",
    "client = Client(cluster)\n",
    "\n",
    "#dask.config.config[\"distributed\"][\"dashboard\"][\"link\"] = \"{JUPYTERHUB_SERVICE_PREFIX}proxy/{host}:{port}/status\"\n",
    "#client = Client(scheduler_file='/global/cscratch1/sd/cwalter/scheduler.json')\n",
    "\n",
    "client"
   ]
  },
  {
   "cell_type": "code",
   "execution_count": null,
   "metadata": {},
   "outputs": [],
   "source": [
    "from scipy.special import comb\n",
    "\n",
    "#scratch= os.environ[\"SCRATCH\"]\n",
    "scratch = '/Users/walter/LSST/work'\n",
    "\n",
    "selected = ['id', 'mag_r', 'z', 'ra', 'dec', 'g1', 'g2']\n",
    "\n",
    "#df = dd.read_parquet(f'{scratch}/parquet-skysim/*.parquet', columns=selected, engine='pyarrow')\n",
    "df = dd.read_parquet(f'{scratch}/skysim-sampled/*.parquet', columns=selected, engine='pyarrow')\n",
    "#df = df.persist()\n",
    "\n",
    "number_in_df = df.index.size.compute()\n",
    "print('Columns:', df.columns.values, '#Rows:', number_in_df/1e9)\n",
    "print(f'There are {number_in_df:,d} elements in the area with {comb(number_in_df, 2, exact=True):,d} total combinations')"
   ]
  },
  {
   "cell_type": "code",
   "execution_count": 5,
   "metadata": {},
   "outputs": [],
   "source": [
    "from healpy.pixelfunc import ang2pix\n",
    "from healpy.pixelfunc import pix2ang\n",
    "from healpy.rotator import angdist\n",
    "\n",
    "NSIDE = 16\n",
    "\n",
    "def add_healpixels(dataframe):\n",
    "    return ang2pix(NSIDE, dataframe.ra.to_numpy(), dataframe.dec.to_numpy(), lonlat=True)\n",
    "\n",
    "def angular_distance(pairs):\n",
    "    \n",
    "    pixel1 = pix2ang(NSIDE, pairs[:,0])\n",
    "    pixel2 = pix2ang(NSIDE, pairs[:,1])\n",
    "    seperation = angdist(pixel1, pixel2)*180/np.pi*60 # in arcmin\n",
    "    \n",
    "    return seperation\n",
    "\n",
    "@delayed\n",
    "def cross(dataframe1, dataframe2, pixel1, pixel2):\n",
    "    \n",
    "    gg = treecorr.GGCorrelation(min_sep=1., max_sep=200., nbins=20, num_threads=1, sep_units='arcmin')\n",
    "\n",
    "    if dataframe1 is dataframe2:   \n",
    "        #print(pixel1, pixel2, \"same!\")\n",
    "        cat1 = treecorr.Catalog(ra=dataframe1.ra, dec=dataframe1.dec, g1=dataframe1.g1, g2=dataframe1.g2, flip_g2=True, ra_units='deg', dec_units='deg')\n",
    "        gg.process_auto(cat1)\n",
    "        \n",
    "    else:\n",
    "        #print(pixel1, pixel2, \"different!\")\n",
    "        cat1 = treecorr.Catalog(ra=dataframe1.ra, dec=dataframe1.dec, g1=dataframe1.g1, g2=dataframe1.g2, flip_g2=True, ra_units='deg', dec_units='deg')\n",
    "        cat2 = treecorr.Catalog(ra=dataframe2.ra, dec=dataframe2.dec, g1=dataframe2.g1, g2=dataframe2.g2, flip_g2=True, ra_units='deg', dec_units='deg')\n",
    "        gg.process_cross(cat1, cat2)\n",
    "        \n",
    "    return gg\n",
    "\n",
    "def calculateVariance(dataframe):\n",
    "    cat = treecorr.Catalog(ra=dataframe.ra, dec=dataframe.dec, g1=dataframe.g1, g2=dataframe.g2, flip_g2=True, ra_units='deg', dec_units='deg')\n",
    "    return pd.DataFrame([[cat.varg*cat.sumw, cat.sumw]])"
   ]
  },
  {
   "cell_type": "code",
   "execution_count": 6,
   "metadata": {},
   "outputs": [],
   "source": [
    "df['pixel'] = df.map_partitions(add_healpixels)\n",
    "\n",
    "pixelated = df.set_index('pixel')\n",
    "pixel_list = list(pixelated.index.unique())\n",
    "pixelated = pixelated.repartition(pixel_list + [pixel_list[-1]])\n",
    "pixelated = pixelated.persist()\n",
    "\n",
    "delayed_list = pixelated.to_delayed()\n",
    "partition_map = {j:i for i,j in enumerate(pixel_list)}"
   ]
  },
  {
   "cell_type": "code",
   "execution_count": 9,
   "metadata": {},
   "outputs": [],
   "source": [
    "elements = pixelated.map_partitions(calculateVariance).sum().compute()\n",
    "varg = elements[0]/elements[1]\n",
    "\n",
    "pairs = np.array( [x for x in it.combinations_with_replacement(pixel_list, 2)] )\n",
    "selected_pairs = pairs[angular_distance(pairs) < 600]"
   ]
  },
  {
   "cell_type": "code",
   "execution_count": 10,
   "metadata": {},
   "outputs": [
    {
     "name": "stdout",
     "output_type": "stream",
     "text": [
      "CPU times: user 2min 34s, sys: 7.72 s, total: 2min 42s\n",
      "Wall time: 16min 45s\n"
     ]
    }
   ],
   "source": [
    "%%time\n",
    "\n",
    "a = [ cross( delayed_list[partition_map[i[0]]], delayed_list[partition_map[i[1]]], i[0], i[1] ) for i in selected_pairs]\n",
    "\n",
    "gg = reduce(treecorr.GGCorrelation.__iadd__, dask.compute(*a))\n",
    "gg.finalize(varg, varg)"
   ]
  },
  {
   "cell_type": "code",
   "execution_count": 12,
   "metadata": {},
   "outputs": [
    {
     "name": "stdout",
     "output_type": "stream",
     "text": [
      "CPU times: user 20min 8s, sys: 26 s, total: 20min 34s\n",
      "Wall time: 4min 43s\n"
     ]
    },
    {
     "data": {
      "text/plain": [
       "Text(0.5, 0, '$\\\\theta$ (arcmin)')"
      ]
     },
     "execution_count": 12,
     "metadata": {},
     "output_type": "execute_result"
    },
    {
     "data": {
      "image/png": "[encoded data removed]",
      "text/plain": [
       "<Figure size 660x440 with 1 Axes>"
      ]
     },
     "metadata": {
      "needs_background": "light"
     },
     "output_type": "display_data"
    }
   ],
   "source": [
    "%%time\n",
    "\n",
    "plt.errorbar(gg.meanr, gg.xip, yerr=np.sqrt(gg.varxip), color='blue', marker='.', markersize=2, ls='none')\n",
    "\n",
    "#cat_raw = treecorr.Catalog(ra=df.ra, dec=df.dec, g1=df.g1, g2=df.g2, flip_g2=True, ra_units='deg', dec_units='deg')\n",
    "#gg_raw = treecorr.GGCorrelation(min_sep=1., max_sep=200., nbins=20, sep_units='arcmin')\n",
    "#gg_raw.process(cat_raw)\n",
    "#plt.errorbar(gg_raw.meanr+.1, gg_raw.xip, yerr=np.sqrt(gg_raw.varxip), color='red' ,marker='.', markersize=2, ls='none', label='Treecorr')\n",
    "\n",
    "plt.title('$\\gamma \\gamma$ Correlation')\n",
    "plt.xscale('log')\n",
    "plt.ylabel(r'$\\xi_+$')\n",
    "plt.xlabel(r'$\\theta$ (arcmin)')"
   ]
  }
 ],
 "metadata": {
  "kernelspec": {
   "display_name": "Python [conda env:.conda-dask]",
   "language": "python",
   "name": "conda-env-.conda-dask-py"
  },
  "language_info": {
   "codemirror_mode": {
    "name": "ipython",
    "version": 3
   },
   "file_extension": ".py",
   "mimetype": "text/x-python",
   "name": "python",
   "nbconvert_exporter": "python",
   "pygments_lexer": "ipython3",
   "version": "3.9.1"
  }
 },
 "nbformat": 4,
 "nbformat_minor": 4
}
